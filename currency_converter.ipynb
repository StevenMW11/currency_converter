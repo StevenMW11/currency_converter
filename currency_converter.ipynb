{
 "cells": [
  {
   "cell_type": "markdown",
   "metadata": {},
   "source": [
    "# Currency Converter & Dashboard\n",
    "\n",
    "### Research Exchange Rates & Calculate Your Currency Conversion"
   ]
  },
  {
   "cell_type": "code",
   "execution_count": null,
   "metadata": {},
   "outputs": [],
   "source": [
    "\"\"\"\"\n",
    "Action Plan\n",
    "\n",
    "1. SETUP DICTIONARY OF THE CURRENCY CONVERSION PAIRS AND CODES FOR URL\n",
    "2. DETERMINE WHAT THE USER WANTS TO DO (CONVERT CURRENCY OR VIEW THE HISOTICAL MOVEMENT)\n",
    "3. GET THE DATA TO BOTH GET LATEST CONVERSION RATE AND HISTORICAL INFORMATION FOR DASHBOARD\n",
    "    - SAVE DOWN DATA FRAME FOR DASHBOARD\n",
    "    - ACCESS FIRST LINE FOR LATEST RATE\n",
    "4. SETUP WEBAPP FOR CURRENCY CONVERSION AND DASHBOARD (END GOAL AND LAST STEP)\n",
    "\n",
    "\"\"\""
   ]
  },
  {
   "cell_type": "code",
   "execution_count": 36,
   "metadata": {},
   "outputs": [],
   "source": [
    "# API KEY FOR NASDAQ DATA ACCESS\n",
    "api_key = 'zfzFLkorymExtxaTPo6F'"
   ]
  },
  {
   "cell_type": "code",
   "execution_count": 37,
   "metadata": {},
   "outputs": [],
   "source": [
    "import os\n",
    "import requests\n",
    "import plotly.express as px\n",
    "import pandas as pd\n",
    "import pandas_datareader.data as web\n",
    "from datetime import date"
   ]
  },
  {
   "cell_type": "code",
   "execution_count": null,
   "metadata": {},
   "outputs": [],
   "source": [
    "# CREATE DICTIONARY OF CONVERSIONS PAIRS AND CODE FOR API USING https://blog.data.nasdaq.com/api-for-currency-data\n",
    "\n",
    "codes = pd.read_excel(\"conversion_codes.xlsx\")\n",
    "conversion_codes = codes.to_dict('records')\n",
    "\n",
    "conversion_codes"
   ]
  },
  {
   "cell_type": "code",
   "execution_count": 54,
   "metadata": {},
   "outputs": [],
   "source": [
    "# GET USER INPUT TO DETERMINE WHICH CONVERSION/INFORMATION THEY WOULD LIKE\n",
    "currency_to_convert = input(\"Please Input Your Desired Currency To Convert (AUD, CAD, CNY ...): \").upper()"
   ]
  },
  {
   "cell_type": "code",
   "execution_count": 55,
   "metadata": {},
   "outputs": [],
   "source": [
    "# ACCESS THE DATA FROM NASDAQ & SAVE TO PANDAS DATA FRAME\n",
    "\n",
    "url = f\"https://data.nasdaq.com/api/v3/datasets/BOE/XUDLBK65.csv?api_key={api_key}\"\n",
    "\n",
    "historical_currency = pd.read_csv(url)"
   ]
  },
  {
   "cell_type": "code",
   "execution_count": null,
   "metadata": {},
   "outputs": [],
   "source": []
  }
 ],
 "metadata": {
  "kernelspec": {
   "display_name": "Python 3.10.1 64-bit",
   "language": "python",
   "name": "python3"
  },
  "language_info": {
   "codemirror_mode": {
    "name": "ipython",
    "version": 3
   },
   "file_extension": ".py",
   "mimetype": "text/x-python",
   "name": "python",
   "nbconvert_exporter": "python",
   "pygments_lexer": "ipython3",
   "version": "3.10.1"
  },
  "orig_nbformat": 4,
  "vscode": {
   "interpreter": {
    "hash": "ab65a6a126614c4d8a09c3bb162b3d2e4f4a949753c6f0f735c7c1fe269df83b"
   }
  }
 },
 "nbformat": 4,
 "nbformat_minor": 2
}
