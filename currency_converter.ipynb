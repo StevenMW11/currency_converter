{
 "cells": [
  {
   "cell_type": "markdown",
   "metadata": {},
   "source": [
    "# Currency Converter & Dashboard\n",
    "\n",
    "### Research Exchange Rates & Calculate Your Currency Conversion"
   ]
  },
  {
   "cell_type": "code",
   "execution_count": null,
   "metadata": {},
   "outputs": [],
   "source": [
    "\"\"\"\"\n",
    "Action Plan\n",
    "\n",
    "1. SETUP DICTIONARY OF THE CURRENCY CONVERSION PAIRS AND CODES FOR URL USE - COMPLETE\n",
    "2. DETERMINE WHAT CURRENCY THE USER WANTS TO SEE - COMPLETE\n",
    "\n",
    "NEXT STEPS - CREATE FUNCTION TO USE THE CORRECT CONVERSION CODES, GRAB THE CONVERSION CODES, AND DO THE CONVERSIONS\n",
    "3. GET THE DATA TO BOTH GET LATEST CONVERSION RATE AND HISTORICAL INFORMATION FOR DASHBOARD\n",
    "    - SAVE DOWN DATA FRAME FOR DASHBOARD\n",
    "    - ACCESS FIRST LINE FOR LATEST RATE\n",
    "4. SETUP WEBAPP FOR CURRENCY CONVERSION AND DASHBOARD (END GOAL AND LAST STEP)\n",
    "\n",
    "\"\"\""
   ]
  },
  {
   "cell_type": "code",
   "execution_count": 1,
   "metadata": {},
   "outputs": [],
   "source": [
    "# API KEY FOR NASDAQ DATA ACCESS\n",
    "api_key = 'zfzFLkorymExtxaTPo6F'\n",
    "#Zac push attempt 6:33pm"
   ]
  },
  {
   "cell_type": "code",
   "execution_count": 46,
   "metadata": {},
   "outputs": [],
   "source": [
    "import os\n",
    "import requests\n",
    "import plotly.express as px\n",
    "import pandas as pd\n",
    "import pandas_datareader.data as web\n",
    "from datetime import date"
   ]
  },
  {
   "cell_type": "code",
   "execution_count": 47,
   "metadata": {},
   "outputs": [],
   "source": [
    "# CREATE DICTIONARY OF CONVERSIONS PAIRS AND CODE FOR API USING https://blog.data.nasdaq.com/api-for-currency-data\n",
    "\n",
    "usd_codes = pd.read_excel(\"conversion_codes_usd.xlsx\")\n",
    "eur_codes = pd.read_excel(\"conversion_codes_eur.xlsx\")\n",
    "usd_codes_dict = usd_codes.to_dict()\n",
    "eur_codes_dict = eur_codes.to_dict()\n",
    "\n",
    "valid_currencies_usd = list(usd_codes_dict['Currency_Code'].values())\n",
    "valid_currencies_eur = list(eur_codes_dict['Currency_Code'].values())"
   ]
  },
  {
   "cell_type": "code",
   "execution_count": 51,
   "metadata": {},
   "outputs": [],
   "source": [
    "# USING VALUES PULL TO CHECK IF CODE IS IN ANY DICTIONARY https://thispointer.com/python-check-if-value-exists-in-list-of-dictionaries/\n",
    "def currency_check(code):\n",
    "    if code in (valid_currencies_usd or valid_currencies_eur):\n",
    "        True\n",
    "    else:\n",
    "        False"
   ]
  },
  {
   "cell_type": "code",
   "execution_count": 52,
   "metadata": {},
   "outputs": [
    {
     "name": "stdout",
     "output_type": "stream",
     "text": [
      "You Want To Convert USD to JPY\n"
     ]
    }
   ],
   "source": [
    "# DETERMINE YOUR CURRENCIES TO CONVERT (USER INPUT)\n",
    "\n",
    "start_currency = input(\"Which Currency Would You Like To Convert? (USD or EUR) \").upper()\n",
    "\n",
    "# STARTING CURRENCY MUST BE USD OR EUR\n",
    "if start_currency == (\"USD\" or \"EUR\"):\n",
    "    end_currency = input(\"Please Input Your Desired Currency To Convert (AUD, CAD, CNY ...): \").upper()\n",
    "    # VALIDATE THE ENDING CURRENCY USING OUR CURRENCY CHECK FUNCTION\n",
    "    currency_check(end_currency)\n",
    "    if True and (start_currency != end_currency): \n",
    "        print(f\"You Want To Convert {start_currency} to {end_currency}\")\n",
    "    else:\n",
    "        print(\"You Chose an Invalid Currency to Convert, Please Run Again.\")\n",
    "else:\n",
    "    print (\"You Chose an Invalid Currency to Convert, Please Run Again.\")"
   ]
  },
  {
   "cell_type": "code",
   "execution_count": 38,
   "metadata": {},
   "outputs": [],
   "source": [
    "# ACCESS THE DATA FROM NASDAQ & SAVE TO PANDAS DATA FRAME\n",
    "def conversion_df_creation(start_currency, end_currency):\n",
    "    if start_currency == \"USD\":\n",
    "        position = valid_currencies_usd.index(end_currency)\n",
    "        fred_code = usd_codes_dict[\"FRED_Code\"][position]\n",
    "        url_usd = f\"https://data.nasdaq.com/api/v3/datasets/FRED/{fred_code}.csv?api_key={api_key}\"\n",
    "        conversion_df = pd.read_csv(url_usd)\n",
    "        return conversion_df\n",
    "    else:\n",
    "        position = valid_currencies_eur.index(end_currency)\n",
    "        ecb_code = usd_codes_dict[\"ECB_Code\"][position]\n",
    "        url_eur = f\"https://data.nasdaq.com/api/v3/datasets/ECB/{ecb_code}.csv?api_key={api_key}\"\n",
    "        conversion_df = pd.read_csv(url_eur)\n",
    "        return conversion_df"
   ]
  },
  {
   "cell_type": "code",
   "execution_count": null,
   "metadata": {},
   "outputs": [],
   "source": [
    "exchange_rates_df = conversion_df_creation(\"USD\",\"AUD\")\n",
    "\n",
    "position = valid_currencies_usd.index(end_currency)\n",
    "fred_code = usd_codes_dict[\"FRED_Code\"][position]\n",
    "url_usd = f\"https://data.nasdaq.com/api/v3/datasets/FRED/{fred_code}.csv?api_key={api_key}\"\n",
    "conversion_df = pd.read_csv(url_usd)\n",
    "latest_exchange_rate = exchange_rates_df[\"Value\"][0]\n",
    "\n",
    "print (fred_code)\n",
    "print (latest_exchange_rate)\n"
   ]
  },
  {
   "cell_type": "code",
   "execution_count": 55,
   "metadata": {},
   "outputs": [
    {
     "data": {
      "text/html": [
       "<div>\n",
       "<style scoped>\n",
       "    .dataframe tbody tr th:only-of-type {\n",
       "        vertical-align: middle;\n",
       "    }\n",
       "\n",
       "    .dataframe tbody tr th {\n",
       "        vertical-align: top;\n",
       "    }\n",
       "\n",
       "    .dataframe thead th {\n",
       "        text-align: right;\n",
       "    }\n",
       "</style>\n",
       "<table border=\"1\" class=\"dataframe\">\n",
       "  <thead>\n",
       "    <tr style=\"text-align: right;\">\n",
       "      <th></th>\n",
       "      <th>Date</th>\n",
       "      <th>Value</th>\n",
       "    </tr>\n",
       "  </thead>\n",
       "  <tbody>\n",
       "    <tr>\n",
       "      <th>0</th>\n",
       "      <td>2022-07-15</td>\n",
       "      <td>138.57</td>\n",
       "    </tr>\n",
       "    <tr>\n",
       "      <th>1</th>\n",
       "      <td>2022-07-14</td>\n",
       "      <td>138.94</td>\n",
       "    </tr>\n",
       "    <tr>\n",
       "      <th>2</th>\n",
       "      <td>2022-07-13</td>\n",
       "      <td>137.34</td>\n",
       "    </tr>\n",
       "    <tr>\n",
       "      <th>3</th>\n",
       "      <td>2022-07-12</td>\n",
       "      <td>136.68</td>\n",
       "    </tr>\n",
       "    <tr>\n",
       "      <th>4</th>\n",
       "      <td>2022-07-11</td>\n",
       "      <td>137.29</td>\n",
       "    </tr>\n",
       "    <tr>\n",
       "      <th>...</th>\n",
       "      <td>...</td>\n",
       "      <td>...</td>\n",
       "    </tr>\n",
       "    <tr>\n",
       "      <th>12915</th>\n",
       "      <td>1971-01-08</td>\n",
       "      <td>357.82</td>\n",
       "    </tr>\n",
       "    <tr>\n",
       "      <th>12916</th>\n",
       "      <td>1971-01-07</td>\n",
       "      <td>357.87</td>\n",
       "    </tr>\n",
       "    <tr>\n",
       "      <th>12917</th>\n",
       "      <td>1971-01-06</td>\n",
       "      <td>357.86</td>\n",
       "    </tr>\n",
       "    <tr>\n",
       "      <th>12918</th>\n",
       "      <td>1971-01-05</td>\n",
       "      <td>357.81</td>\n",
       "    </tr>\n",
       "    <tr>\n",
       "      <th>12919</th>\n",
       "      <td>1971-01-04</td>\n",
       "      <td>357.73</td>\n",
       "    </tr>\n",
       "  </tbody>\n",
       "</table>\n",
       "<p>12920 rows × 2 columns</p>\n",
       "</div>"
      ],
      "text/plain": [
       "             Date   Value\n",
       "0      2022-07-15  138.57\n",
       "1      2022-07-14  138.94\n",
       "2      2022-07-13  137.34\n",
       "3      2022-07-12  136.68\n",
       "4      2022-07-11  137.29\n",
       "...           ...     ...\n",
       "12915  1971-01-08  357.82\n",
       "12916  1971-01-07  357.87\n",
       "12917  1971-01-06  357.86\n",
       "12918  1971-01-05  357.81\n",
       "12919  1971-01-04  357.73\n",
       "\n",
       "[12920 rows x 2 columns]"
      ]
     },
     "execution_count": 55,
     "metadata": {},
     "output_type": "execute_result"
    }
   ],
   "source": [
    "exchange_rates_df = conversion_df_creation(start_currency,end_currency)\n",
    "latest_exchange_rate = exchange_rates_df[\"Value\"][0]\n",
    "exchange_rates_df"
   ]
  },
  {
   "cell_type": "code",
   "execution_count": null,
   "metadata": {},
   "outputs": [],
   "source": [
    "\n",
    "def main():\n",
    "    \n",
    "\n",
    "\n",
    "\n"
   ]
  },
  {
   "cell_type": "code",
   "execution_count": 56,
   "metadata": {},
   "outputs": [],
   "source": [
    "if __name__ == \"__main__\":\n",
    "    main()"
   ]
  },
  {
   "cell_type": "code",
   "execution_count": null,
   "metadata": {},
   "outputs": [],
   "source": []
  }
 ],
 "metadata": {
  "kernelspec": {
   "display_name": "Python 3.10.1 64-bit",
   "language": "python",
   "name": "python3"
  },
  "language_info": {
   "codemirror_mode": {
    "name": "ipython",
    "version": 3
   },
   "file_extension": ".py",
   "mimetype": "text/x-python",
   "name": "python",
   "nbconvert_exporter": "python",
   "pygments_lexer": "ipython3",
   "version": "3.10.1"
  },
  "orig_nbformat": 4,
  "vscode": {
   "interpreter": {
    "hash": "ab65a6a126614c4d8a09c3bb162b3d2e4f4a949753c6f0f735c7c1fe269df83b"
   }
  }
 },
 "nbformat": 4,
 "nbformat_minor": 2
}
