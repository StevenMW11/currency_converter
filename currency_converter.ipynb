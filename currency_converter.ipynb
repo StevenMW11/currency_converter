{
 "cells": [
  {
   "cell_type": "markdown",
   "metadata": {},
   "source": [
    "# Currency Converter & Dashboard\n",
    "\n",
    "### Research Exchange Rates & Calculate Your Currency Conversion"
   ]
  },
  {
   "cell_type": "code",
   "execution_count": 1,
   "metadata": {},
   "outputs": [
    {
     "data": {
      "text/plain": [
       "'\"\\nAction Plan\\n\\n1. SETUP DICTIONARY OF THE CURRENCY CONVERSION PAIRS AND CODES FOR URL USE - COMPLETE\\n2. DETERMINE WHAT CURRENCY THE USER WANTS TO SEE\\n\\n3. GET THE DATA TO BOTH GET LATEST CONVERSION RATE AND HISTORICAL INFORMATION FOR DASHBOARD\\n    - SAVE DOWN DATA FRAME FOR DASHBOARD\\n    - ACCESS FIRST LINE FOR LATEST RATE\\n4. SETUP WEBAPP FOR CURRENCY CONVERSION AND DASHBOARD (END GOAL AND LAST STEP)\\n\\n'"
      ]
     },
     "execution_count": 1,
     "metadata": {},
     "output_type": "execute_result"
    }
   ],
   "source": [
    "\"\"\"\"\n",
    "Action Plan\n",
    "\n",
    "1. SETUP DICTIONARY OF THE CURRENCY CONVERSION PAIRS AND CODES FOR URL USE - COMPLETE\n",
    "2. DETERMINE WHAT CURRENCY THE USER WANTS TO SEE\n",
    "\n",
    "3. GET THE DATA TO BOTH GET LATEST CONVERSION RATE AND HISTORICAL INFORMATION FOR DASHBOARD\n",
    "    - SAVE DOWN DATA FRAME FOR DASHBOARD\n",
    "    - ACCESS FIRST LINE FOR LATEST RATE\n",
    "4. SETUP WEBAPP FOR CURRENCY CONVERSION AND DASHBOARD (END GOAL AND LAST STEP)\n",
    "\n",
    "\"\"\""
   ]
  },
  {
   "cell_type": "code",
   "execution_count": 14,
   "metadata": {},
   "outputs": [],
   "source": [
    "# API KEY FOR NASDAQ DATA ACCESS\n",
    "api_key = 'zfzFLkorymExtxaTPo6F'"
   ]
  },
  {
   "cell_type": "code",
   "execution_count": 15,
   "metadata": {},
   "outputs": [],
   "source": [
    "import os\n",
    "import requests\n",
    "import plotly.express as px\n",
    "import pandas as pd\n",
    "import pandas_datareader.data as web\n",
    "from datetime import date"
   ]
  },
  {
   "cell_type": "code",
   "execution_count": 20,
   "metadata": {},
   "outputs": [],
   "source": [
    "# CREATE DICTIONARY OF CONVERSIONS PAIRS AND CODE FOR API USING https://blog.data.nasdaq.com/api-for-currency-data\n",
    "\n",
    "usd_codes = pd.read_excel(\"conversion_codes_usd.xlsx\")\n",
    "eur_codes = pd.read_excel(\"conversion_codes_eur.xlsx\")\n",
    "usd_codes_dict = usd_codes.to_dict()\n",
    "eur_codes_dict = eur_codes.to_dict()"
   ]
  },
  {
   "cell_type": "code",
   "execution_count": 28,
   "metadata": {},
   "outputs": [],
   "source": [
    "# USING VALUES PULL TO CHECK IF CODE IS IN ANY DICTIONARY https://thispointer.com/python-check-if-value-exists-in-list-of-dictionaries/\n",
    "\n",
    "def currency_check(code):\n",
    "    valid_currencies_usd = [value for elem in usd_codes_dict for value in elem.values()]\n",
    "    valid_currencies_eur = [value for elem in eur_codes_dict for value in elem.values()]\n",
    "    if code in (valid_currencies_usd or valid_currencies_eur):\n",
    "        True\n",
    "    else:\n",
    "        False"
   ]
  },
  {
   "cell_type": "code",
   "execution_count": 29,
   "metadata": {},
   "outputs": [
    {
     "ename": "AttributeError",
     "evalue": "'str' object has no attribute 'values'",
     "output_type": "error",
     "traceback": [
      "\u001b[1;31m---------------------------------------------------------------------------\u001b[0m",
      "\u001b[1;31mAttributeError\u001b[0m                            Traceback (most recent call last)",
      "\u001b[1;32mc:\\Users\\steve\\OneDrive\\Documents\\GitHub\\currency_converter\\currency_converter.ipynb Cell 7\u001b[0m in \u001b[0;36m<module>\u001b[1;34m\u001b[0m\n\u001b[0;32m      <a href='vscode-notebook-cell:/c%3A/Users/steve/OneDrive/Documents/GitHub/currency_converter/currency_converter.ipynb#X14sZmlsZQ%3D%3D?line=6'>7</a>\u001b[0m end_currency \u001b[39m=\u001b[39m \u001b[39minput\u001b[39m(\u001b[39m\"\u001b[39m\u001b[39mPlease Input Your Desired Currency To Convert (AUD, CAD, CNY ...): \u001b[39m\u001b[39m\"\u001b[39m)\u001b[39m.\u001b[39mupper()\n\u001b[0;32m      <a href='vscode-notebook-cell:/c%3A/Users/steve/OneDrive/Documents/GitHub/currency_converter/currency_converter.ipynb#X14sZmlsZQ%3D%3D?line=7'>8</a>\u001b[0m \u001b[39m# VALIDATE THE ENDING CURRENCY USING OUR CURRENCY CHECK FUNCTION\u001b[39;00m\n\u001b[1;32m----> <a href='vscode-notebook-cell:/c%3A/Users/steve/OneDrive/Documents/GitHub/currency_converter/currency_converter.ipynb#X14sZmlsZQ%3D%3D?line=8'>9</a>\u001b[0m currency_check(end_currency)\n\u001b[0;32m     <a href='vscode-notebook-cell:/c%3A/Users/steve/OneDrive/Documents/GitHub/currency_converter/currency_converter.ipynb#X14sZmlsZQ%3D%3D?line=9'>10</a>\u001b[0m \u001b[39mif\u001b[39;00m \u001b[39mTrue\u001b[39;00m: \n\u001b[0;32m     <a href='vscode-notebook-cell:/c%3A/Users/steve/OneDrive/Documents/GitHub/currency_converter/currency_converter.ipynb#X14sZmlsZQ%3D%3D?line=10'>11</a>\u001b[0m     \u001b[39mprint\u001b[39m(\u001b[39mf\u001b[39m\u001b[39m\"\u001b[39m\u001b[39mYou Want To Convert \u001b[39m\u001b[39m{\u001b[39;00mstart_currency\u001b[39m}\u001b[39;00m\u001b[39m to \u001b[39m\u001b[39m{\u001b[39;00mend_currency\u001b[39m}\u001b[39;00m\u001b[39m\"\u001b[39m)\n",
      "\u001b[1;32mc:\\Users\\steve\\OneDrive\\Documents\\GitHub\\currency_converter\\currency_converter.ipynb Cell 7\u001b[0m in \u001b[0;36mcurrency_check\u001b[1;34m(code)\u001b[0m\n\u001b[0;32m      <a href='vscode-notebook-cell:/c%3A/Users/steve/OneDrive/Documents/GitHub/currency_converter/currency_converter.ipynb#X14sZmlsZQ%3D%3D?line=2'>3</a>\u001b[0m \u001b[39mdef\u001b[39;00m \u001b[39mcurrency_check\u001b[39m(code):\n\u001b[1;32m----> <a href='vscode-notebook-cell:/c%3A/Users/steve/OneDrive/Documents/GitHub/currency_converter/currency_converter.ipynb#X14sZmlsZQ%3D%3D?line=3'>4</a>\u001b[0m     valid_currencies_usd \u001b[39m=\u001b[39m [value \u001b[39mfor\u001b[39;00m elem \u001b[39min\u001b[39;00m usd_codes_dict \u001b[39mfor\u001b[39;00m value \u001b[39min\u001b[39;00m elem\u001b[39m.\u001b[39mvalues()]\n\u001b[0;32m      <a href='vscode-notebook-cell:/c%3A/Users/steve/OneDrive/Documents/GitHub/currency_converter/currency_converter.ipynb#X14sZmlsZQ%3D%3D?line=4'>5</a>\u001b[0m     valid_currencies_eur \u001b[39m=\u001b[39m [value \u001b[39mfor\u001b[39;00m elem \u001b[39min\u001b[39;00m eur_codes_dict \u001b[39mfor\u001b[39;00m value \u001b[39min\u001b[39;00m elem\u001b[39m.\u001b[39mvalues()]\n\u001b[0;32m      <a href='vscode-notebook-cell:/c%3A/Users/steve/OneDrive/Documents/GitHub/currency_converter/currency_converter.ipynb#X14sZmlsZQ%3D%3D?line=5'>6</a>\u001b[0m     \u001b[39mif\u001b[39;00m code \u001b[39min\u001b[39;00m (valid_currencies_usd \u001b[39mor\u001b[39;00m valid_currencies_eur):\n",
      "\u001b[1;32mc:\\Users\\steve\\OneDrive\\Documents\\GitHub\\currency_converter\\currency_converter.ipynb Cell 7\u001b[0m in \u001b[0;36m<listcomp>\u001b[1;34m(.0)\u001b[0m\n\u001b[0;32m      <a href='vscode-notebook-cell:/c%3A/Users/steve/OneDrive/Documents/GitHub/currency_converter/currency_converter.ipynb#X14sZmlsZQ%3D%3D?line=2'>3</a>\u001b[0m \u001b[39mdef\u001b[39;00m \u001b[39mcurrency_check\u001b[39m(code):\n\u001b[1;32m----> <a href='vscode-notebook-cell:/c%3A/Users/steve/OneDrive/Documents/GitHub/currency_converter/currency_converter.ipynb#X14sZmlsZQ%3D%3D?line=3'>4</a>\u001b[0m     valid_currencies_usd \u001b[39m=\u001b[39m [value \u001b[39mfor\u001b[39;00m elem \u001b[39min\u001b[39;00m usd_codes_dict \u001b[39mfor\u001b[39;00m value \u001b[39min\u001b[39;00m elem\u001b[39m.\u001b[39;49mvalues()]\n\u001b[0;32m      <a href='vscode-notebook-cell:/c%3A/Users/steve/OneDrive/Documents/GitHub/currency_converter/currency_converter.ipynb#X14sZmlsZQ%3D%3D?line=4'>5</a>\u001b[0m     valid_currencies_eur \u001b[39m=\u001b[39m [value \u001b[39mfor\u001b[39;00m elem \u001b[39min\u001b[39;00m eur_codes_dict \u001b[39mfor\u001b[39;00m value \u001b[39min\u001b[39;00m elem\u001b[39m.\u001b[39mvalues()]\n\u001b[0;32m      <a href='vscode-notebook-cell:/c%3A/Users/steve/OneDrive/Documents/GitHub/currency_converter/currency_converter.ipynb#X14sZmlsZQ%3D%3D?line=5'>6</a>\u001b[0m     \u001b[39mif\u001b[39;00m code \u001b[39min\u001b[39;00m (valid_currencies_usd \u001b[39mor\u001b[39;00m valid_currencies_eur):\n",
      "\u001b[1;31mAttributeError\u001b[0m: 'str' object has no attribute 'values'"
     ]
    }
   ],
   "source": [
    "# DETERMINE YOUR CURRENCIES TO CONVERT\n",
    "\n",
    "start_currency = input(\"Which Currency Would You Like To Convert? (USD or EUR) \").upper()\n",
    "\n",
    "# STARTING CURRENCY MUST BE USD OR EUR\n",
    "if start_currency == (\"USD\" or \"EUR\"):\n",
    "    end_currency = input(\"Please Input Your Desired Currency To Convert (AUD, CAD, CNY ...): \").upper()\n",
    "    # VALIDATE THE ENDING CURRENCY USING OUR CURRENCY CHECK FUNCTION\n",
    "    currency_check(end_currency)\n",
    "    if True: \n",
    "        print(f\"You Want To Convert {start_currency} to {end_currency}\")\n",
    "    else:\n",
    "        print(\"You Chose an Invalid Currency to Convert, Please Run Again.\")\n",
    "else:\n",
    "    print (\"You Chose an Invalid Currency to Convert, Please Run Again.\")"
   ]
  },
  {
   "cell_type": "code",
   "execution_count": 16,
   "metadata": {},
   "outputs": [],
   "source": [
    "# ACCESS THE DATA FROM NASDAQ & SAVE TO PANDAS DATA FRAME\n",
    "usd_conversion_code = \"\"\n",
    "eur_conversion_code = \"\"\n",
    "\n",
    "url_usd = f\"https://data.nasdaq.com/api/v3/datasets/FRED/{usd_conversion_code}.csv?api_key={api_key}\"\n",
    "url_eur = f\"https://data.nasdaq.com/api/v3/datasets/ECB/{eur_conversion_code}.csv?api_key={api_key}\"\n",
    "\n",
    "conversion_df = pd.read_csv(url)"
   ]
  },
  {
   "cell_type": "code",
   "execution_count": 17,
   "metadata": {},
   "outputs": [
    {
     "data": {
      "text/html": [
       "<div>\n",
       "<style scoped>\n",
       "    .dataframe tbody tr th:only-of-type {\n",
       "        vertical-align: middle;\n",
       "    }\n",
       "\n",
       "    .dataframe tbody tr th {\n",
       "        vertical-align: top;\n",
       "    }\n",
       "\n",
       "    .dataframe thead th {\n",
       "        text-align: right;\n",
       "    }\n",
       "</style>\n",
       "<table border=\"1\" class=\"dataframe\">\n",
       "  <thead>\n",
       "    <tr style=\"text-align: right;\">\n",
       "      <th></th>\n",
       "      <th>Date</th>\n",
       "      <th>Value</th>\n",
       "    </tr>\n",
       "  </thead>\n",
       "  <tbody>\n",
       "    <tr>\n",
       "      <th>0</th>\n",
       "      <td>2022-07-15</td>\n",
       "      <td>0.6793</td>\n",
       "    </tr>\n",
       "    <tr>\n",
       "      <th>1</th>\n",
       "      <td>2022-07-14</td>\n",
       "      <td>0.6744</td>\n",
       "    </tr>\n",
       "    <tr>\n",
       "      <th>2</th>\n",
       "      <td>2022-07-13</td>\n",
       "      <td>0.6786</td>\n",
       "    </tr>\n",
       "    <tr>\n",
       "      <th>3</th>\n",
       "      <td>2022-07-12</td>\n",
       "      <td>0.6772</td>\n",
       "    </tr>\n",
       "    <tr>\n",
       "      <th>4</th>\n",
       "      <td>2022-07-11</td>\n",
       "      <td>0.6750</td>\n",
       "    </tr>\n",
       "    <tr>\n",
       "      <th>...</th>\n",
       "      <td>...</td>\n",
       "      <td>...</td>\n",
       "    </tr>\n",
       "    <tr>\n",
       "      <th>12914</th>\n",
       "      <td>1971-01-08</td>\n",
       "      <td>1.1124</td>\n",
       "    </tr>\n",
       "    <tr>\n",
       "      <th>12915</th>\n",
       "      <td>1971-01-07</td>\n",
       "      <td>1.1138</td>\n",
       "    </tr>\n",
       "    <tr>\n",
       "      <th>12916</th>\n",
       "      <td>1971-01-06</td>\n",
       "      <td>1.1140</td>\n",
       "    </tr>\n",
       "    <tr>\n",
       "      <th>12917</th>\n",
       "      <td>1971-01-05</td>\n",
       "      <td>1.1132</td>\n",
       "    </tr>\n",
       "    <tr>\n",
       "      <th>12918</th>\n",
       "      <td>1971-01-04</td>\n",
       "      <td>1.1127</td>\n",
       "    </tr>\n",
       "  </tbody>\n",
       "</table>\n",
       "<p>12919 rows × 2 columns</p>\n",
       "</div>"
      ],
      "text/plain": [
       "             Date   Value\n",
       "0      2022-07-15  0.6793\n",
       "1      2022-07-14  0.6744\n",
       "2      2022-07-13  0.6786\n",
       "3      2022-07-12  0.6772\n",
       "4      2022-07-11  0.6750\n",
       "...           ...     ...\n",
       "12914  1971-01-08  1.1124\n",
       "12915  1971-01-07  1.1138\n",
       "12916  1971-01-06  1.1140\n",
       "12917  1971-01-05  1.1132\n",
       "12918  1971-01-04  1.1127\n",
       "\n",
       "[12919 rows x 2 columns]"
      ]
     },
     "execution_count": 17,
     "metadata": {},
     "output_type": "execute_result"
    }
   ],
   "source": [
    "conversion_df"
   ]
  },
  {
   "cell_type": "code",
   "execution_count": null,
   "metadata": {},
   "outputs": [],
   "source": []
  }
 ],
 "metadata": {
  "kernelspec": {
   "display_name": "Python 3.10.1 64-bit",
   "language": "python",
   "name": "python3"
  },
  "language_info": {
   "codemirror_mode": {
    "name": "ipython",
    "version": 3
   },
   "file_extension": ".py",
   "mimetype": "text/x-python",
   "name": "python",
   "nbconvert_exporter": "python",
   "pygments_lexer": "ipython3",
   "version": "3.10.1"
  },
  "orig_nbformat": 4,
  "vscode": {
   "interpreter": {
    "hash": "ab65a6a126614c4d8a09c3bb162b3d2e4f4a949753c6f0f735c7c1fe269df83b"
   }
  }
 },
 "nbformat": 4,
 "nbformat_minor": 2
}
