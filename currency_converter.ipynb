{
 "cells": [
  {
   "cell_type": "markdown",
   "metadata": {},
   "source": [
    "# Currency Converter & Dashboard\n",
    "\n",
    "### Research Exchange Rates & Calculate Your Currency Conversion"
   ]
  },
  {
   "cell_type": "code",
   "execution_count": null,
   "metadata": {},
   "outputs": [],
   "source": [
    "\"\"\"\"\n",
    "Action Plan\n",
    "\n",
    "1. SETUP DICTIONARY OF THE CURRENCY CONVERSION PAIRS AND CODES FOR URL USE - COMPLETE\n",
    "2. DETERMINE WHAT CURRENCY THE USER WANTS TO SEE\n",
    "\n",
    "3. GET THE DATA TO BOTH GET LATEST CONVERSION RATE AND HISTORICAL INFORMATION FOR DASHBOARD\n",
    "    - SAVE DOWN DATA FRAME FOR DASHBOARD\n",
    "    - ACCESS FIRST LINE FOR LATEST RATE\n",
    "4. SETUP WEBAPP FOR CURRENCY CONVERSION AND DASHBOARD (END GOAL AND LAST STEP)\n",
    "\n",
    "\"\"\""
   ]
  },
  {
   "cell_type": "code",
   "execution_count": 36,
   "metadata": {},
   "outputs": [],
   "source": [
    "# API KEY FOR NASDAQ DATA ACCESS\n",
    "api_key = 'zfzFLkorymExtxaTPo6F'"
   ]
  },
  {
   "cell_type": "code",
   "execution_count": 37,
   "metadata": {},
   "outputs": [],
   "source": [
    "import os\n",
    "import requests\n",
    "import plotly.express as px\n",
    "import pandas as pd\n",
    "import pandas_datareader.data as web\n",
    "from datetime import date"
   ]
  },
  {
   "cell_type": "code",
   "execution_count": null,
   "metadata": {},
   "outputs": [],
   "source": [
    "# CREATE DICTIONARY OF CONVERSIONS PAIRS AND CODE FOR API USING https://blog.data.nasdaq.com/api-for-currency-data\n",
    "\n",
    "codes = pd.read_excel(\"conversion_codes.xlsx\")\n",
    "conversion_codes = codes.to_dict('records')\n",
    "\n",
    "conversion_codes"
   ]
  },
  {
   "cell_type": "code",
   "execution_count": 89,
   "metadata": {},
   "outputs": [],
   "source": [
    "# USING VALUES PULL TO CHECK IF CODE IS IN ANY DICTIONARY https://thispointer.com/python-check-if-value-exists-in-list-of-dictionaries/\n",
    "\n",
    "def currency_check(code):\n",
    "    valid_currencies = [value for elem in conversion_codes for value in elem.values()]\n",
    "    if code in valid_currencies:\n",
    "        True\n",
    "    else:\n",
    "        False"
   ]
  },
  {
   "cell_type": "code",
   "execution_count": 84,
   "metadata": {},
   "outputs": [
    {
     "name": "stdout",
     "output_type": "stream",
     "text": [
      "You Chose an Invalid Currency to Convert\n"
     ]
    }
   ],
   "source": [
    "# GET USER INPUT TO DETERMINE WHICH CONVERSION/INFORMATION THEY WOULD LIKE\n",
    "currency_to_convert = input(\"Please Input Your Desired Currency To Convert (AUD, CAD, CNY ...): \").upper()\n",
    "\n",
    "# RUN A CHECK TO SEE IF A VALID CURRENCY TO CONVERT\n",
    "check = currency_check(currency_to_convert)\n",
    "\n",
    "#if check == True:\n",
    "#    print(f\"You Want To Convert {currency_to_convert}\")\n",
    "#else:\n",
    "#    print(f\"You Chose an Invalid Currency to Convert\")\n"
   ]
  },
  {
   "cell_type": "code",
   "execution_count": 71,
   "metadata": {},
   "outputs": [],
   "source": [
    "# ACCESS THE DATA FROM NASDAQ & SAVE TO PANDAS DATA FRAME\n",
    "\n",
    "url = f\"https://data.nasdaq.com/api/v3/datasets/BOE/XUDLBK65.csv?api_key={api_key}\"\n",
    "\n",
    "historical_currency = pd.read_csv(url)"
   ]
  },
  {
   "cell_type": "code",
   "execution_count": null,
   "metadata": {},
   "outputs": [],
   "source": []
  }
 ],
 "metadata": {
  "kernelspec": {
   "display_name": "Python 3.10.1 64-bit",
   "language": "python",
   "name": "python3"
  },
  "language_info": {
   "codemirror_mode": {
    "name": "ipython",
    "version": 3
   },
   "file_extension": ".py",
   "mimetype": "text/x-python",
   "name": "python",
   "nbconvert_exporter": "python",
   "pygments_lexer": "ipython3",
   "version": "3.10.1"
  },
  "orig_nbformat": 4,
  "vscode": {
   "interpreter": {
    "hash": "ab65a6a126614c4d8a09c3bb162b3d2e4f4a949753c6f0f735c7c1fe269df83b"
   }
  }
 },
 "nbformat": 4,
 "nbformat_minor": 2
}
